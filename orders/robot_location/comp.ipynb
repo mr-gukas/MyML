{
 "cells": [
  {
   "cell_type": "code",
   "execution_count": 1,
   "metadata": {},
   "outputs": [],
   "source": [
    "import pandas as pd\n",
    "import numpy as np\n",
    "from torch.utils.data import DataLoader, TensorDataset\n",
    "\n",
    "# Загрузка данных\n",
    "data_train = pd.read_csv(\"train.csv\")\n"
   ]
  },
  {
   "cell_type": "code",
   "execution_count": 2,
   "metadata": {},
   "outputs": [
    {
     "name": "stdout",
     "output_type": "stream",
     "text": [
      "8091\n"
     ]
    }
   ],
   "source": [
    "TRAIN_SPLIT = int(0.9 * len(data_train))\n",
    "print(TRAIN_SPLIT)"
   ]
  },
  {
   "cell_type": "code",
   "execution_count": 3,
   "metadata": {},
   "outputs": [
    {
     "data": {
      "text/html": [
       "<div>\n",
       "<style scoped>\n",
       "    .dataframe tbody tr th:only-of-type {\n",
       "        vertical-align: middle;\n",
       "    }\n",
       "\n",
       "    .dataframe tbody tr th {\n",
       "        vertical-align: top;\n",
       "    }\n",
       "\n",
       "    .dataframe thead th {\n",
       "        text-align: right;\n",
       "    }\n",
       "</style>\n",
       "<table border=\"1\" class=\"dataframe\">\n",
       "  <thead>\n",
       "    <tr style=\"text-align: right;\">\n",
       "      <th></th>\n",
       "      <th>DateTime</th>\n",
       "      <th>Robot_X</th>\n",
       "      <th>Robot_Y</th>\n",
       "      <th>Robot_Angle</th>\n",
       "      <th>Ball_X</th>\n",
       "      <th>Ball_Y</th>\n",
       "    </tr>\n",
       "  </thead>\n",
       "  <tbody>\n",
       "    <tr>\n",
       "      <th>0</th>\n",
       "      <td>09.02.2024 21:48:28</td>\n",
       "      <td>-0.049646</td>\n",
       "      <td>0.111455</td>\n",
       "      <td>-0.015986</td>\n",
       "      <td>0.075607</td>\n",
       "      <td>1.46080</td>\n",
       "    </tr>\n",
       "    <tr>\n",
       "      <th>1</th>\n",
       "      <td>09.02.2024 21:48:28</td>\n",
       "      <td>-0.049646</td>\n",
       "      <td>0.111455</td>\n",
       "      <td>-0.015971</td>\n",
       "      <td>0.075707</td>\n",
       "      <td>1.46080</td>\n",
       "    </tr>\n",
       "    <tr>\n",
       "      <th>2</th>\n",
       "      <td>09.02.2024 21:48:28</td>\n",
       "      <td>-0.239089</td>\n",
       "      <td>1.040000</td>\n",
       "      <td>-0.015955</td>\n",
       "      <td>0.075873</td>\n",
       "      <td>1.46167</td>\n",
       "    </tr>\n",
       "    <tr>\n",
       "      <th>3</th>\n",
       "      <td>09.02.2024 21:48:28</td>\n",
       "      <td>-0.101059</td>\n",
       "      <td>1.058200</td>\n",
       "      <td>-0.004182</td>\n",
       "      <td>0.070520</td>\n",
       "      <td>1.33220</td>\n",
       "    </tr>\n",
       "    <tr>\n",
       "      <th>4</th>\n",
       "      <td>09.02.2024 21:48:28</td>\n",
       "      <td>-0.101053</td>\n",
       "      <td>1.058080</td>\n",
       "      <td>-0.004240</td>\n",
       "      <td>0.070281</td>\n",
       "      <td>1.33212</td>\n",
       "    </tr>\n",
       "  </tbody>\n",
       "</table>\n",
       "</div>"
      ],
      "text/plain": [
       "              DateTime   Robot_X   Robot_Y  Robot_Angle    Ball_X   Ball_Y\n",
       "0  09.02.2024 21:48:28 -0.049646  0.111455    -0.015986  0.075607  1.46080\n",
       "1  09.02.2024 21:48:28 -0.049646  0.111455    -0.015971  0.075707  1.46080\n",
       "2  09.02.2024 21:48:28 -0.239089  1.040000    -0.015955  0.075873  1.46167\n",
       "3  09.02.2024 21:48:28 -0.101059  1.058200    -0.004182  0.070520  1.33220\n",
       "4  09.02.2024 21:48:28 -0.101053  1.058080    -0.004240  0.070281  1.33212"
      ]
     },
     "execution_count": 3,
     "metadata": {},
     "output_type": "execute_result"
    }
   ],
   "source": [
    "data_train.head()"
   ]
  },
  {
   "cell_type": "code",
   "execution_count": 4,
   "metadata": {},
   "outputs": [
    {
     "data": {
      "text/plain": [
       "<torch._C.Generator at 0x7f8586f058b0>"
      ]
     },
     "execution_count": 4,
     "metadata": {},
     "output_type": "execute_result"
    }
   ],
   "source": [
    "import torch\n",
    "\n",
    "torch.manual_seed(13)"
   ]
  },
  {
   "cell_type": "code",
   "execution_count": 5,
   "metadata": {},
   "outputs": [
    {
     "data": {
      "text/html": [
       "<div>\n",
       "<style scoped>\n",
       "    .dataframe tbody tr th:only-of-type {\n",
       "        vertical-align: middle;\n",
       "    }\n",
       "\n",
       "    .dataframe tbody tr th {\n",
       "        vertical-align: top;\n",
       "    }\n",
       "\n",
       "    .dataframe thead th {\n",
       "        text-align: right;\n",
       "    }\n",
       "</style>\n",
       "<table border=\"1\" class=\"dataframe\">\n",
       "  <thead>\n",
       "    <tr style=\"text-align: right;\">\n",
       "      <th></th>\n",
       "      <th>Robot_X</th>\n",
       "      <th>Robot_Y</th>\n",
       "      <th>Robot_Angle</th>\n",
       "      <th>Ball_X</th>\n",
       "      <th>Ball_Y</th>\n",
       "    </tr>\n",
       "    <tr>\n",
       "      <th>DateTime</th>\n",
       "      <th></th>\n",
       "      <th></th>\n",
       "      <th></th>\n",
       "      <th></th>\n",
       "      <th></th>\n",
       "    </tr>\n",
       "  </thead>\n",
       "  <tbody>\n",
       "    <tr>\n",
       "      <th>09.02.2024 21:48:28</th>\n",
       "      <td>-0.049646</td>\n",
       "      <td>0.111455</td>\n",
       "      <td>-0.015986</td>\n",
       "      <td>0.075607</td>\n",
       "      <td>1.46080</td>\n",
       "    </tr>\n",
       "    <tr>\n",
       "      <th>09.02.2024 21:48:28</th>\n",
       "      <td>-0.049646</td>\n",
       "      <td>0.111455</td>\n",
       "      <td>-0.015971</td>\n",
       "      <td>0.075707</td>\n",
       "      <td>1.46080</td>\n",
       "    </tr>\n",
       "    <tr>\n",
       "      <th>09.02.2024 21:48:28</th>\n",
       "      <td>-0.239089</td>\n",
       "      <td>1.040000</td>\n",
       "      <td>-0.015955</td>\n",
       "      <td>0.075873</td>\n",
       "      <td>1.46167</td>\n",
       "    </tr>\n",
       "    <tr>\n",
       "      <th>09.02.2024 21:48:28</th>\n",
       "      <td>-0.101059</td>\n",
       "      <td>1.058200</td>\n",
       "      <td>-0.004182</td>\n",
       "      <td>0.070520</td>\n",
       "      <td>1.33220</td>\n",
       "    </tr>\n",
       "    <tr>\n",
       "      <th>09.02.2024 21:48:28</th>\n",
       "      <td>-0.101053</td>\n",
       "      <td>1.058080</td>\n",
       "      <td>-0.004240</td>\n",
       "      <td>0.070281</td>\n",
       "      <td>1.33212</td>\n",
       "    </tr>\n",
       "  </tbody>\n",
       "</table>\n",
       "</div>"
      ],
      "text/plain": [
       "                      Robot_X   Robot_Y  Robot_Angle    Ball_X   Ball_Y\n",
       "DateTime                                                               \n",
       "09.02.2024 21:48:28 -0.049646  0.111455    -0.015986  0.075607  1.46080\n",
       "09.02.2024 21:48:28 -0.049646  0.111455    -0.015971  0.075707  1.46080\n",
       "09.02.2024 21:48:28 -0.239089  1.040000    -0.015955  0.075873  1.46167\n",
       "09.02.2024 21:48:28 -0.101059  1.058200    -0.004182  0.070520  1.33220\n",
       "09.02.2024 21:48:28 -0.101053  1.058080    -0.004240  0.070281  1.33212"
      ]
     },
     "execution_count": 5,
     "metadata": {},
     "output_type": "execute_result"
    }
   ],
   "source": [
    "features_considered = ['Robot_X', 'Robot_Y', 'Robot_Angle', 'Ball_X', 'Ball_Y']\n",
    "features = data_train[features_considered]\n",
    "features.index = data_train['DateTime']\n",
    "features.head()\n"
   ]
  },
  {
   "cell_type": "code",
   "execution_count": 6,
   "metadata": {},
   "outputs": [],
   "source": [
    "dataset = features.values\n",
    "data_mean = dataset.mean(axis=0)\n",
    "data_std = dataset.std(axis=0)\n"
   ]
  },
  {
   "cell_type": "code",
   "execution_count": 7,
   "metadata": {},
   "outputs": [],
   "source": [
    "dataset = (dataset-data_mean)/data_std\n"
   ]
  },
  {
   "cell_type": "code",
   "execution_count": 8,
   "metadata": {},
   "outputs": [],
   "source": [
    "# Приведенная ниже функция возвращает вышеописанные временные интервалы для обучения модели. \n",
    "# @param: history_size — это размер последнего временного интервала,\n",
    "# target_size – аргумент, определяющий насколько далеко в будущее модель должна научиться прогнозировать.\n",
    "#  Другими словами, target_size – это целевой вектор, который необходимо спрогнозировать.\n",
    "\n",
    "def multivariate_data(dataset, target, start_index, end_index, history_size,\n",
    "                      target_size, step, single_step=False):\n",
    "  data = []\n",
    "  labels = []\n",
    "\n",
    "  start_index = start_index + history_size\n",
    "  if end_index is None:\n",
    "    end_index = len(dataset) - target_size\n",
    "\n",
    "  for i in range(start_index, end_index):\n",
    "    indices = range(i-history_size, i, step)\n",
    "    data.append(dataset[indices])\n",
    "\n",
    "    if single_step:\n",
    "      labels.append(target[i+target_size])\n",
    "    else:\n",
    "      labels.append(target[i:i+target_size])\n",
    "\n",
    "  return np.array(data), np.array(labels)"
   ]
  },
  {
   "cell_type": "code",
   "execution_count": 9,
   "metadata": {},
   "outputs": [],
   "source": [
    "# У нас, в среднем, 11-12 записей каждую секунду, то есть примерно раз в 83 миллисекунды. \n",
    "# Допустим, мы хотим прогнозировать на основе предыдущего измерения, положение тела в следующий момент\n",
    "\n",
    "past_history  = 1\n",
    "future_target = 1\n",
    "STEP = 1\n",
    "\n",
    "x_train_single, y_train_single = multivariate_data(dataset, dataset[:, 0:2], 0,\n",
    "                                                   TRAIN_SPLIT, past_history,\n",
    "                                                   future_target, STEP,\n",
    "                                                   single_step=True)\n",
    "x_val_single, y_val_single = multivariate_data(dataset, dataset[:, 0:2],\n",
    "                                                TRAIN_SPLIT, None, past_history,\n",
    "                                                future_target, STEP,\n",
    "                                                single_step=True)"
   ]
  },
  {
   "cell_type": "code",
   "execution_count": 10,
   "metadata": {},
   "outputs": [],
   "source": [
    "BATCH_SIZE = 128\n",
    "\n",
    "from torch.utils.data import TensorDataset, DataLoader\n",
    "\n",
    "# Создание датасета\n",
    "train_data_single = TensorDataset(torch.tensor(x_train_single).float(), torch.tensor(y_train_single).float())\n",
    "\n",
    "# Создание DataLoader\n",
    "train_loader_single = DataLoader(train_data_single, batch_size=BATCH_SIZE, shuffle=True)\n",
    "\n",
    "val_data_single = TensorDataset(torch.tensor(x_val_single).float(), torch.tensor(y_val_single).float())\n",
    "\n",
    "# Создание DataLoader\n",
    "val_loader_single = DataLoader(val_data_single, batch_size=BATCH_SIZE, shuffle=False)\n",
    "\n"
   ]
  },
  {
   "cell_type": "code",
   "execution_count": 11,
   "metadata": {},
   "outputs": [
    {
     "name": "stderr",
     "output_type": "stream",
     "text": [
      "/home/gukas/work/.venv/lib/python3.11/site-packages/tqdm/auto.py:21: TqdmWarning: IProgress not found. Please update jupyter and ipywidgets. See https://ipywidgets.readthedocs.io/en/stable/user_install.html\n",
      "  from .autonotebook import tqdm as notebook_tqdm\n",
      "/home/gukas/work/.venv/lib/python3.11/site-packages/transformers/utils/generic.py:441: UserWarning: torch.utils._pytree._register_pytree_node is deprecated. Please use torch.utils._pytree.register_pytree_node instead.\n",
      "  _torch_pytree._register_pytree_node(\n"
     ]
    }
   ],
   "source": [
    "import torch.nn as nn\n",
    "\n",
    "class SingleStepModel(nn.Module):\n",
    "    def __init__(self, input_size, hidden_size, output_size, dropout_prob=0.2):\n",
    "        super(SingleStepModel, self).__init__()\n",
    "        self.hidden_size = hidden_size\n",
    "        self.rnn = nn.LSTM(input_size, hidden_size, batch_first=True)\n",
    "        self.fc1 = nn.Linear(hidden_size, 2*hidden_size)\n",
    "        self.bn1 = nn.BatchNorm1d(2*hidden_size)\n",
    "        self.dropout = nn.Dropout(dropout_prob)\n",
    "        self.fc2 = nn.Linear(2*hidden_size, output_size)\n",
    "\n",
    "    def forward(self, x):\n",
    "        # x: (batch_size, seq_len, input_size)\n",
    "        _, (hidden, _) = self.rnn(x)\n",
    "        # hidden: (1, batch_size, hidden_size)\n",
    "        out = self.fc1(hidden.squeeze(0))\n",
    "        out = self.bn1(out)\n",
    "        out = self.dropout(out)\n",
    "        out = self.fc2(out)\n",
    "        return out\n",
    "\n",
    "\n",
    "# Определение модели\n",
    "input_size = x_train_single.shape[-1]\n",
    "hidden_size = 32\n",
    "output_size = 2\n",
    "single_step_model = SingleStepModel(input_size, hidden_size, output_size)\n",
    "\n",
    "# Определение функции потерь и оптимизатора\n",
    "criterion =  nn.MSELoss()\n",
    "optimizer =  torch.optim.Adam(single_step_model.parameters(), lr=0.001)"
   ]
  },
  {
   "cell_type": "code",
   "execution_count": 12,
   "metadata": {},
   "outputs": [],
   "source": [
    "EPOCHS = 10"
   ]
  },
  {
   "cell_type": "code",
   "execution_count": 13,
   "metadata": {},
   "outputs": [
    {
     "name": "stdout",
     "output_type": "stream",
     "text": [
      "Epoch 1/10, Train Loss: 0.2366, Val Loss: 0.1200\n",
      "Epoch 2/10, Train Loss: 0.1495, Val Loss: 0.0289\n",
      "Epoch 3/10, Train Loss: 0.1382, Val Loss: 0.0279\n",
      "Epoch 4/10, Train Loss: 0.1293, Val Loss: 0.0336\n",
      "Epoch 5/10, Train Loss: 0.1229, Val Loss: 0.0289\n",
      "Epoch 6/10, Train Loss: 0.1136, Val Loss: 0.0263\n",
      "Epoch 7/10, Train Loss: 0.1101, Val Loss: 0.0267\n",
      "Epoch 8/10, Train Loss: 0.1038, Val Loss: 0.0266\n",
      "Epoch 9/10, Train Loss: 0.1035, Val Loss: 0.0262\n",
      "Epoch 10/10, Train Loss: 0.1032, Val Loss: 0.0247\n"
     ]
    },
    {
     "data": {
      "image/png": "[encoded data removed]",
      "text/plain": [
       "<Figure size 640x480 with 1 Axes>"
      ]
     },
     "metadata": {},
     "output_type": "display_data"
    }
   ],
   "source": [
    "import torch\n",
    "import matplotlib.pyplot as plt\n",
    "\n",
    "import copy \n",
    "\n",
    "def train_model(model, train_loader, val_loader, criterion, optimizer, num_epochs):\n",
    "    train_losses = []\n",
    "    val_losses = []\n",
    "    best_val_loss = float('inf')\n",
    "    best_model_weights = copy.deepcopy(model.state_dict())\n",
    "\n",
    "    for epoch in range(num_epochs):\n",
    "        model.train()\n",
    "        running_train_loss = 0.0\n",
    "        for inputs, targets in train_loader:\n",
    "            inputs = inputs.float()\n",
    "            optimizer.zero_grad()\n",
    "            outputs = model(inputs)\n",
    "            loss = criterion(outputs, targets)\n",
    "            loss.backward()\n",
    "            optimizer.step()\n",
    "            running_train_loss += loss.item() * inputs.size(0)\n",
    "        epoch_train_loss = running_train_loss / len(train_loader.dataset)\n",
    "        train_losses.append(epoch_train_loss)\n",
    "\n",
    "        model.eval()\n",
    "        running_val_loss = 0.0\n",
    "        with torch.no_grad():\n",
    "            for inputs, targets in val_loader:\n",
    "                inputs = inputs.float()\n",
    "                outputs = model(inputs)\n",
    "                loss = criterion(outputs, targets)\n",
    "                running_val_loss += loss.item() * inputs.size(0)\n",
    "            epoch_val_loss = running_val_loss / len(val_loader.dataset)\n",
    "            val_losses.append(epoch_val_loss)\n",
    "        \n",
    "            if epoch_val_loss < best_val_loss:\n",
    "                best_val_loss = epoch_val_loss\n",
    "                best_model_weights = copy.deepcopy(model.state_dict())\n",
    "\n",
    "        print(f'Epoch {epoch+1}/{num_epochs}, Train Loss: {epoch_train_loss:.4f}, Val Loss: {epoch_val_loss:.4f}')\n",
    "    \n",
    "    model.load_state_dict(best_model_weights)\n",
    "\n",
    "    return train_losses, val_losses\n",
    "\n",
    "def plot_train_history(train_losses, val_losses, title):\n",
    "    epochs = range(1, len(train_losses) + 1)\n",
    "    plt.plot(epochs, train_losses, 'b', label='Training loss')\n",
    "    plt.plot(epochs, val_losses, 'r', label='Validation loss')\n",
    "    plt.title(title)\n",
    "    plt.xlabel('Epochs')\n",
    "    plt.ylabel('Loss')\n",
    "    plt.legend()\n",
    "    plt.show()\n",
    "\n",
    "train_losses, val_losses = train_model(single_step_model, train_loader_single, val_loader_single, criterion, optimizer, EPOCHS)\n",
    "plot_train_history(train_losses, val_losses, 'Single Step Training and validation loss')"
   ]
  },
  {
   "cell_type": "code",
   "execution_count": 14,
   "metadata": {},
   "outputs": [],
   "source": [
    "def predict(model, input_data):\n",
    "    model.eval()\n",
    "\n",
    "    with torch.no_grad():\n",
    "        output = model(input_data)\n",
    "    \n",
    "    return output"
   ]
  },
  {
   "cell_type": "code",
   "execution_count": 93,
   "metadata": {},
   "outputs": [
    {
     "name": "stdout",
     "output_type": "stream",
     "text": [
      "Test Loss: 0.0771\n"
     ]
    }
   ],
   "source": [
    "data_test  = pd.read_csv(\"test.csv\")\n",
    "test_data = data_test[features_considered]\n",
    "test_data.index = data_test['DateTime']\n",
    "test_data = data_test[features_considered]\n",
    "test_data.index = data_test['DateTime']\n",
    "test_dataset = test_data.values\n",
    "test_dataset = (test_dataset - data_mean) / data_std\n",
    "\n",
    "x_test_single, y_test_single = multivariate_data(test_dataset, test_dataset[:, 0:2],\n",
    "                                                0, None, past_history,\n",
    "                                                future_target, STEP,\n",
    "                                                single_step=True)\n",
    "\n",
    "\n",
    "test_data_single = TensorDataset(torch.tensor(x_test_single).float(), torch.tensor(y_test_single).float())\n",
    "test_loader_single = DataLoader(test_data_single, batch_size=BATCH_SIZE, shuffle=False)\n",
    "\n",
    "\n",
    "nn_errors = []\n",
    "\n",
    "def evaluate_model(model, test_loader, criterion):\n",
    "    model.eval()\n",
    "    total_loss = 0.0\n",
    "    with torch.no_grad():\n",
    "        for inputs, targets in test_loader:\n",
    "            inputs = inputs.float()\n",
    "            outputs = model(inputs)\n",
    "            loss = criterion(outputs, targets)\n",
    "            total_loss += loss.item() * inputs.size(0)\n",
    "    avg_loss = total_loss / len(test_loader.dataset)\n",
    "    return avg_loss\n",
    "\n",
    "# Assuming test_loader_single contains the test data\n",
    "test_loss = evaluate_model(single_step_model, test_loader_single, criterion)\n",
    "print(f'Test Loss: {test_loss:.4f}')"
   ]
  },
  {
   "cell_type": "markdown",
   "metadata": {},
   "source": [
    "Итак, РНС выдала на тестовой выборке MSE в 0.0771. Теперь посмотрим на линейный алгоритм:\n"
   ]
  },
  {
   "cell_type": "code",
   "execution_count": 94,
   "metadata": {},
   "outputs": [],
   "source": [
    "import pandas as pd\n",
    "from sklearn.model_selection import train_test_split\n",
    "from sklearn.ensemble import RandomForestRegressor\n",
    "from sklearn.metrics import mean_squared_error\n",
    "\n",
    "X = data_train.iloc[:-1][['Robot_X', 'Robot_Y', 'Robot_Angle', 'Ball_X', 'Ball_Y']]\n",
    "y = data_train.iloc[1:][['Robot_X', 'Robot_Y']]\n",
    "\n",
    "# Вычисление среднего и стандартного отклонения для каждого признака\n",
    "means = X.mean(axis=0)\n",
    "stds = X.std(axis=0)\n",
    "\n",
    "# Нормировка данных\n",
    "X_scaled = (X - means) / stds\n",
    "\n",
    "X_train, X_val, y_train, y_val = train_test_split(X_scaled, y, test_size=0.9, random_state=42)\n",
    "\n"
   ]
  },
  {
   "cell_type": "code",
   "execution_count": 95,
   "metadata": {},
   "outputs": [
    {
     "name": "stdout",
     "output_type": "stream",
     "text": [
      "Mean Squared Error: 0.15186235024258338\n"
     ]
    }
   ],
   "source": [
    "import numpy as np\n",
    "\n",
    "class LinearRegression:\n",
    "    def __init__(self):\n",
    "        self.coef_ = None\n",
    "        self.intercept_ = None\n",
    "\n",
    "    def fit(self, X, y):\n",
    "        # Добавляем столбец единиц к матрице признаков для учета свободного коэффициента (intercept)\n",
    "        X = np.hstack((np.ones((X.shape[0], 1)), X))\n",
    "        \n",
    "        # Решаем уравнение коэффициентов: (X^T * X)^(-1) * X^T * y\n",
    "        self.theta = np.linalg.inv(X.T.dot(X)).dot(X.T).dot(y)\n",
    "\n",
    "        # Первый элемент theta - intercept, остальные - коэффициенты при признаках\n",
    "        self.intercept_ = self.theta[0]\n",
    "        self.coef_ = self.theta[1:]\n",
    "\n",
    "    def predict(self, X):\n",
    "        # Добавляем столбец единиц к матрице признаков для учета свободного коэффициента (intercept)\n",
    "        X = np.hstack((np.ones((X.shape[0], 1)), X))\n",
    "        \n",
    "        # Предсказываем значения y: y = X * theta\n",
    "        y_pred = X.dot(self.theta)\n",
    "        return y_pred\n",
    "\n",
    "model = LinearRegression()\n",
    "model.fit(X_train, y_train)\n",
    "\n",
    "y_pred = model.predict(X_val)\n",
    "\n",
    "from sklearn.metrics import mean_squared_error\n",
    "\n",
    "mse = mean_squared_error(y_val, y_pred)\n",
    "print(\"Mean Squared Error:\", mse)"
   ]
  },
  {
   "cell_type": "code",
   "execution_count": 96,
   "metadata": {},
   "outputs": [
    {
     "name": "stdout",
     "output_type": "stream",
     "text": [
      "Mean Squared Error: 0.19787439754216304\n"
     ]
    }
   ],
   "source": [
    "X_test = data_test.iloc[:-1][['Robot_X', 'Robot_Y', 'Robot_Angle', 'Ball_X', 'Ball_Y']]\n",
    "y_test = data_test.iloc[1:][['Robot_X', 'Robot_Y']]\n",
    "\n",
    "X_test = (X_test - means) / stds\n",
    "y_test_pred = model.predict(X_test)\n",
    "\n",
    "mse = mean_squared_error(y_test, y_test_pred)\n",
    "print(\"Mean Squared Error:\", mse)\n"
   ]
  },
  {
   "cell_type": "markdown",
   "metadata": {},
   "source": [
    "Как видим, реккурентная нейронная сеть справляется с задачей прогнозирования следующего шага куда лучше, чем классические алгоритмы регресии."
   ]
  }
 ],
 "metadata": {
  "kernelspec": {
   "display_name": "Python 3",
   "language": "python",
   "name": "python3"
  },
  "language_info": {
   "codemirror_mode": {
    "name": "ipython",
    "version": 3
   },
   "file_extension": ".py",
   "mimetype": "text/x-python",
   "name": "python",
   "nbconvert_exporter": "python",
   "pygments_lexer": "ipython3",
   "version": "3.11.2"
  }
 },
 "nbformat": 4,
 "nbformat_minor": 2
}
